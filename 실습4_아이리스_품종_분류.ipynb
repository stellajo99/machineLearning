{
  "nbformat": 4,
  "nbformat_minor": 0,
  "metadata": {
    "colab": {
      "name": "실습4-아이리스 품종 분류",
      "provenance": [],
      "authorship_tag": "ABX9TyNYN+gwx1KHXNHYZ0/FOVPO",
      "include_colab_link": true
    },
    "kernelspec": {
      "name": "python3",
      "display_name": "Python 3"
    },
    "language_info": {
      "name": "python"
    }
  },
  "cells": [
    {
      "cell_type": "markdown",
      "metadata": {
        "id": "view-in-github",
        "colab_type": "text"
      },
      "source": [
        "<a href=\"https://colab.research.google.com/github/stellajo99/machineLearning/blob/main/%EC%8B%A4%EC%8A%B54_%EC%95%84%EC%9D%B4%EB%A6%AC%EC%8A%A4_%ED%92%88%EC%A2%85_%EB%B6%84%EB%A5%98.ipynb\" target=\"_parent\"><img src=\"https://colab.research.google.com/assets/colab-badge.svg\" alt=\"Open In Colab\"/></a>"
      ]
    },
    {
      "cell_type": "code",
      "metadata": {
        "id": "xD8u1gAcqe7i"
      },
      "source": [
        "# 라이브러리 사용\n",
        "import tensorflow as tf\n",
        "import pandas as pd"
      ],
      "execution_count": null,
      "outputs": []
    },
    {
      "cell_type": "code",
      "metadata": {
        "colab": {
          "base_uri": "https://localhost:8080/",
          "height": 206
        },
        "id": "U-yfnGD1qlGZ",
        "outputId": "c58821b9-ae14-404b-ee5d-cba297420d4b"
      },
      "source": [
        "# 1. 과거의 데이터 준비\n",
        "파일경로 = 'https://raw.githubusercontent.com/blackdew/tensorflow1/master/csv/iris.csv'\n",
        "아이리스 = pd.read_csv(파일경로)\n",
        "아이리스.head()"
      ],
      "execution_count": null,
      "outputs": [
        {
          "output_type": "execute_result",
          "data": {
            "text/html": [
              "<div>\n",
              "<style scoped>\n",
              "    .dataframe tbody tr th:only-of-type {\n",
              "        vertical-align: middle;\n",
              "    }\n",
              "\n",
              "    .dataframe tbody tr th {\n",
              "        vertical-align: top;\n",
              "    }\n",
              "\n",
              "    .dataframe thead th {\n",
              "        text-align: right;\n",
              "    }\n",
              "</style>\n",
              "<table border=\"1\" class=\"dataframe\">\n",
              "  <thead>\n",
              "    <tr style=\"text-align: right;\">\n",
              "      <th></th>\n",
              "      <th>꽃잎길이</th>\n",
              "      <th>꽃잎폭</th>\n",
              "      <th>꽃받침길이</th>\n",
              "      <th>꽃받침폭</th>\n",
              "      <th>품종</th>\n",
              "    </tr>\n",
              "  </thead>\n",
              "  <tbody>\n",
              "    <tr>\n",
              "      <th>0</th>\n",
              "      <td>5.1</td>\n",
              "      <td>3.5</td>\n",
              "      <td>1.4</td>\n",
              "      <td>0.2</td>\n",
              "      <td>setosa</td>\n",
              "    </tr>\n",
              "    <tr>\n",
              "      <th>1</th>\n",
              "      <td>4.9</td>\n",
              "      <td>3.0</td>\n",
              "      <td>1.4</td>\n",
              "      <td>0.2</td>\n",
              "      <td>setosa</td>\n",
              "    </tr>\n",
              "    <tr>\n",
              "      <th>2</th>\n",
              "      <td>4.7</td>\n",
              "      <td>3.2</td>\n",
              "      <td>1.3</td>\n",
              "      <td>0.2</td>\n",
              "      <td>setosa</td>\n",
              "    </tr>\n",
              "    <tr>\n",
              "      <th>3</th>\n",
              "      <td>4.6</td>\n",
              "      <td>3.1</td>\n",
              "      <td>1.5</td>\n",
              "      <td>0.2</td>\n",
              "      <td>setosa</td>\n",
              "    </tr>\n",
              "    <tr>\n",
              "      <th>4</th>\n",
              "      <td>5.0</td>\n",
              "      <td>3.6</td>\n",
              "      <td>1.4</td>\n",
              "      <td>0.2</td>\n",
              "      <td>setosa</td>\n",
              "    </tr>\n",
              "  </tbody>\n",
              "</table>\n",
              "</div>"
            ],
            "text/plain": [
              "   꽃잎길이  꽃잎폭  꽃받침길이  꽃받침폭      품종\n",
              "0   5.1  3.5    1.4   0.2  setosa\n",
              "1   4.9  3.0    1.4   0.2  setosa\n",
              "2   4.7  3.2    1.3   0.2  setosa\n",
              "3   4.6  3.1    1.5   0.2  setosa\n",
              "4   5.0  3.6    1.4   0.2  setosa"
            ]
          },
          "metadata": {},
          "execution_count": 4
        }
      ]
    },
    {
      "cell_type": "code",
      "metadata": {
        "colab": {
          "base_uri": "https://localhost:8080/",
          "height": 223
        },
        "id": "9T-jPljoafMj",
        "outputId": "5cd9c68b-f6ae-4af3-ac7c-547949ec8ea7"
      },
      "source": [
        "#원핫인코딩\n",
        "인코딩 = pd.get_dummies(아이리스)\n",
        "인코딩.head()"
      ],
      "execution_count": null,
      "outputs": [
        {
          "output_type": "execute_result",
          "data": {
            "text/html": [
              "<div>\n",
              "<style scoped>\n",
              "    .dataframe tbody tr th:only-of-type {\n",
              "        vertical-align: middle;\n",
              "    }\n",
              "\n",
              "    .dataframe tbody tr th {\n",
              "        vertical-align: top;\n",
              "    }\n",
              "\n",
              "    .dataframe thead th {\n",
              "        text-align: right;\n",
              "    }\n",
              "</style>\n",
              "<table border=\"1\" class=\"dataframe\">\n",
              "  <thead>\n",
              "    <tr style=\"text-align: right;\">\n",
              "      <th></th>\n",
              "      <th>꽃잎길이</th>\n",
              "      <th>꽃잎폭</th>\n",
              "      <th>꽃받침길이</th>\n",
              "      <th>꽃받침폭</th>\n",
              "      <th>품종_setosa</th>\n",
              "      <th>품종_versicolor</th>\n",
              "      <th>품종_virginica</th>\n",
              "    </tr>\n",
              "  </thead>\n",
              "  <tbody>\n",
              "    <tr>\n",
              "      <th>0</th>\n",
              "      <td>5.1</td>\n",
              "      <td>3.5</td>\n",
              "      <td>1.4</td>\n",
              "      <td>0.2</td>\n",
              "      <td>1</td>\n",
              "      <td>0</td>\n",
              "      <td>0</td>\n",
              "    </tr>\n",
              "    <tr>\n",
              "      <th>1</th>\n",
              "      <td>4.9</td>\n",
              "      <td>3.0</td>\n",
              "      <td>1.4</td>\n",
              "      <td>0.2</td>\n",
              "      <td>1</td>\n",
              "      <td>0</td>\n",
              "      <td>0</td>\n",
              "    </tr>\n",
              "    <tr>\n",
              "      <th>2</th>\n",
              "      <td>4.7</td>\n",
              "      <td>3.2</td>\n",
              "      <td>1.3</td>\n",
              "      <td>0.2</td>\n",
              "      <td>1</td>\n",
              "      <td>0</td>\n",
              "      <td>0</td>\n",
              "    </tr>\n",
              "    <tr>\n",
              "      <th>3</th>\n",
              "      <td>4.6</td>\n",
              "      <td>3.1</td>\n",
              "      <td>1.5</td>\n",
              "      <td>0.2</td>\n",
              "      <td>1</td>\n",
              "      <td>0</td>\n",
              "      <td>0</td>\n",
              "    </tr>\n",
              "    <tr>\n",
              "      <th>4</th>\n",
              "      <td>5.0</td>\n",
              "      <td>3.6</td>\n",
              "      <td>1.4</td>\n",
              "      <td>0.2</td>\n",
              "      <td>1</td>\n",
              "      <td>0</td>\n",
              "      <td>0</td>\n",
              "    </tr>\n",
              "  </tbody>\n",
              "</table>\n",
              "</div>"
            ],
            "text/plain": [
              "   꽃잎길이  꽃잎폭  꽃받침길이  꽃받침폭  품종_setosa  품종_versicolor  품종_virginica\n",
              "0   5.1  3.5    1.4   0.2          1              0             0\n",
              "1   4.9  3.0    1.4   0.2          1              0             0\n",
              "2   4.7  3.2    1.3   0.2          1              0             0\n",
              "3   4.6  3.1    1.5   0.2          1              0             0\n",
              "4   5.0  3.6    1.4   0.2          1              0             0"
            ]
          },
          "metadata": {},
          "execution_count": 3
        }
      ]
    },
    {
      "cell_type": "code",
      "metadata": {
        "colab": {
          "base_uri": "https://localhost:8080/"
        },
        "id": "pLwvXwTLauvJ",
        "outputId": "5e8514f7-8476-4101-b693-2511cbb666c6"
      },
      "source": [
        "print(인코딩.columns)"
      ],
      "execution_count": null,
      "outputs": [
        {
          "output_type": "stream",
          "name": "stdout",
          "text": [
            "Index(['꽃잎길이', '꽃잎폭', '꽃받침길이', '꽃받침폭', '품종_setosa', '품종_versicolor',\n",
            "       '품종_virginica'],\n",
            "      dtype='object')\n"
          ]
        }
      ]
    },
    {
      "cell_type": "code",
      "metadata": {
        "colab": {
          "base_uri": "https://localhost:8080/"
        },
        "id": "jDy3iZ5orD2l",
        "outputId": "5f0efdf1-d026-4e31-cf16-d6c44f335ba3"
      },
      "source": [
        "# 종속변수, 독립변수 분리\n",
        "독립 = 인코딩[['꽃잎길이', '꽃잎폭', '꽃받침길이', '꽃받침폭']]\n",
        "종속 = 인코딩[['품종_setosa', '품종_versicolor',\n",
        "       '품종_virginica']]\n",
        "print(독립.shape, 종속.shape)"
      ],
      "execution_count": null,
      "outputs": [
        {
          "output_type": "stream",
          "name": "stdout",
          "text": [
            "(150, 4) (150, 3)\n"
          ]
        }
      ]
    },
    {
      "cell_type": "code",
      "metadata": {
        "id": "UVSyOfntqmVf"
      },
      "source": [
        "# 2. 모델의 구조를 만듭니다.\n",
        "X = tf.keras.layers.Input(shape=[4]) \n",
        "Y = tf.keras.layers.Dense(3, activation='softmax')(X) # 분류문제이므로 activation function에 softmax 필요\n",
        "model = tf.keras.models.Model(X, Y)\n",
        "model.compile(loss='categorical_crossentropy',\n",
        "              metrics='accuracy')"
      ],
      "execution_count": null,
      "outputs": []
    },
    {
      "cell_type": "code",
      "metadata": {
        "colab": {
          "base_uri": "https://localhost:8080/"
        },
        "id": "WmLyBrbOqn6C",
        "outputId": "6948a4bf-36ff-4c58-aa4b-2ae61b243b89"
      },
      "source": [
        "# 3. 모델을 학습합니다.\n",
        "model.fit(독립, 종속, epochs=100)"
      ],
      "execution_count": null,
      "outputs": [
        {
          "output_type": "stream",
          "name": "stdout",
          "text": [
            "Epoch 1/100\n",
            "5/5 [==============================] - 0s 2ms/step - loss: 3.3462 - accuracy: 0.3333\n",
            "Epoch 2/100\n",
            "5/5 [==============================] - 0s 2ms/step - loss: 3.2621 - accuracy: 0.3333\n",
            "Epoch 3/100\n",
            "5/5 [==============================] - 0s 2ms/step - loss: 3.1760 - accuracy: 0.3333\n",
            "Epoch 4/100\n",
            "5/5 [==============================] - 0s 2ms/step - loss: 3.0914 - accuracy: 0.3333\n",
            "Epoch 5/100\n",
            "5/5 [==============================] - 0s 2ms/step - loss: 3.0069 - accuracy: 0.3333\n",
            "Epoch 6/100\n",
            "5/5 [==============================] - 0s 2ms/step - loss: 2.9257 - accuracy: 0.3333\n",
            "Epoch 7/100\n",
            "5/5 [==============================] - 0s 2ms/step - loss: 2.8475 - accuracy: 0.3333\n",
            "Epoch 8/100\n",
            "5/5 [==============================] - 0s 1ms/step - loss: 2.7686 - accuracy: 0.3333\n",
            "Epoch 9/100\n",
            "5/5 [==============================] - 0s 1ms/step - loss: 2.6919 - accuracy: 0.3333\n",
            "Epoch 10/100\n",
            "5/5 [==============================] - 0s 2ms/step - loss: 2.6160 - accuracy: 0.3333\n",
            "Epoch 11/100\n",
            "5/5 [==============================] - 0s 3ms/step - loss: 2.5419 - accuracy: 0.3333\n",
            "Epoch 12/100\n",
            "5/5 [==============================] - 0s 3ms/step - loss: 2.4691 - accuracy: 0.3333\n",
            "Epoch 13/100\n",
            "5/5 [==============================] - 0s 2ms/step - loss: 2.3988 - accuracy: 0.3333\n",
            "Epoch 14/100\n",
            "5/5 [==============================] - 0s 2ms/step - loss: 2.3290 - accuracy: 0.3333\n",
            "Epoch 15/100\n",
            "5/5 [==============================] - 0s 2ms/step - loss: 2.2608 - accuracy: 0.3333\n",
            "Epoch 16/100\n",
            "5/5 [==============================] - 0s 4ms/step - loss: 2.1978 - accuracy: 0.3333\n",
            "Epoch 17/100\n",
            "5/5 [==============================] - 0s 3ms/step - loss: 2.1351 - accuracy: 0.3333\n",
            "Epoch 18/100\n",
            "5/5 [==============================] - 0s 3ms/step - loss: 2.0716 - accuracy: 0.3333\n",
            "Epoch 19/100\n",
            "5/5 [==============================] - 0s 4ms/step - loss: 2.0095 - accuracy: 0.3400\n",
            "Epoch 20/100\n",
            "5/5 [==============================] - 0s 2ms/step - loss: 1.9478 - accuracy: 0.3600\n",
            "Epoch 21/100\n",
            "5/5 [==============================] - 0s 3ms/step - loss: 1.8867 - accuracy: 0.3933\n",
            "Epoch 22/100\n",
            "5/5 [==============================] - 0s 2ms/step - loss: 1.8272 - accuracy: 0.4667\n",
            "Epoch 23/100\n",
            "5/5 [==============================] - 0s 2ms/step - loss: 1.7702 - accuracy: 0.5267\n",
            "Epoch 24/100\n",
            "5/5 [==============================] - 0s 2ms/step - loss: 1.7126 - accuracy: 0.5733\n",
            "Epoch 25/100\n",
            "5/5 [==============================] - 0s 5ms/step - loss: 1.6567 - accuracy: 0.6133\n",
            "Epoch 26/100\n",
            "5/5 [==============================] - 0s 2ms/step - loss: 1.6004 - accuracy: 0.6533\n",
            "Epoch 27/100\n",
            "5/5 [==============================] - 0s 2ms/step - loss: 1.5448 - accuracy: 0.6600\n",
            "Epoch 28/100\n",
            "5/5 [==============================] - 0s 2ms/step - loss: 1.4880 - accuracy: 0.6600\n",
            "Epoch 29/100\n",
            "5/5 [==============================] - 0s 2ms/step - loss: 1.4336 - accuracy: 0.6600\n",
            "Epoch 30/100\n",
            "5/5 [==============================] - 0s 2ms/step - loss: 1.3798 - accuracy: 0.6600\n",
            "Epoch 31/100\n",
            "5/5 [==============================] - 0s 2ms/step - loss: 1.3270 - accuracy: 0.6600\n",
            "Epoch 32/100\n",
            "5/5 [==============================] - 0s 2ms/step - loss: 1.2748 - accuracy: 0.6600\n",
            "Epoch 33/100\n",
            "5/5 [==============================] - 0s 2ms/step - loss: 1.2236 - accuracy: 0.6600\n",
            "Epoch 34/100\n",
            "5/5 [==============================] - 0s 2ms/step - loss: 1.1739 - accuracy: 0.6667\n",
            "Epoch 35/100\n",
            "5/5 [==============================] - 0s 2ms/step - loss: 1.1246 - accuracy: 0.6667\n",
            "Epoch 36/100\n",
            "5/5 [==============================] - 0s 3ms/step - loss: 1.0788 - accuracy: 0.6667\n",
            "Epoch 37/100\n",
            "5/5 [==============================] - 0s 2ms/step - loss: 1.0338 - accuracy: 0.6667\n",
            "Epoch 38/100\n",
            "5/5 [==============================] - 0s 3ms/step - loss: 0.9910 - accuracy: 0.6667\n",
            "Epoch 39/100\n",
            "5/5 [==============================] - 0s 2ms/step - loss: 0.9489 - accuracy: 0.6667\n",
            "Epoch 40/100\n",
            "5/5 [==============================] - 0s 3ms/step - loss: 0.9088 - accuracy: 0.6667\n",
            "Epoch 41/100\n",
            "5/5 [==============================] - 0s 2ms/step - loss: 0.8715 - accuracy: 0.6667\n",
            "Epoch 42/100\n",
            "5/5 [==============================] - 0s 2ms/step - loss: 0.8365 - accuracy: 0.6667\n",
            "Epoch 43/100\n",
            "5/5 [==============================] - 0s 2ms/step - loss: 0.8040 - accuracy: 0.6667\n",
            "Epoch 44/100\n",
            "5/5 [==============================] - 0s 2ms/step - loss: 0.7738 - accuracy: 0.6733\n",
            "Epoch 45/100\n",
            "5/5 [==============================] - 0s 3ms/step - loss: 0.7476 - accuracy: 0.6867\n",
            "Epoch 46/100\n",
            "5/5 [==============================] - 0s 3ms/step - loss: 0.7238 - accuracy: 0.7067\n",
            "Epoch 47/100\n",
            "5/5 [==============================] - 0s 2ms/step - loss: 0.7020 - accuracy: 0.7667\n",
            "Epoch 48/100\n",
            "5/5 [==============================] - 0s 3ms/step - loss: 0.6825 - accuracy: 0.8200\n",
            "Epoch 49/100\n",
            "5/5 [==============================] - 0s 3ms/step - loss: 0.6667 - accuracy: 0.8600\n",
            "Epoch 50/100\n",
            "5/5 [==============================] - 0s 3ms/step - loss: 0.6544 - accuracy: 0.8933\n",
            "Epoch 51/100\n",
            "5/5 [==============================] - 0s 3ms/step - loss: 0.6422 - accuracy: 0.9133\n",
            "Epoch 52/100\n",
            "5/5 [==============================] - 0s 3ms/step - loss: 0.6324 - accuracy: 0.9333\n",
            "Epoch 53/100\n",
            "5/5 [==============================] - 0s 3ms/step - loss: 0.6238 - accuracy: 0.9200\n",
            "Epoch 54/100\n",
            "5/5 [==============================] - 0s 2ms/step - loss: 0.6175 - accuracy: 0.9200\n",
            "Epoch 55/100\n",
            "5/5 [==============================] - 0s 2ms/step - loss: 0.6141 - accuracy: 0.9333\n",
            "Epoch 56/100\n",
            "5/5 [==============================] - 0s 3ms/step - loss: 0.6079 - accuracy: 0.9133\n",
            "Epoch 57/100\n",
            "5/5 [==============================] - 0s 3ms/step - loss: 0.6031 - accuracy: 0.9067\n",
            "Epoch 58/100\n",
            "5/5 [==============================] - 0s 2ms/step - loss: 0.5994 - accuracy: 0.9133\n",
            "Epoch 59/100\n",
            "5/5 [==============================] - 0s 2ms/step - loss: 0.5973 - accuracy: 0.9133\n",
            "Epoch 60/100\n",
            "5/5 [==============================] - 0s 2ms/step - loss: 0.5925 - accuracy: 0.9067\n",
            "Epoch 61/100\n",
            "5/5 [==============================] - 0s 2ms/step - loss: 0.5895 - accuracy: 0.9067\n",
            "Epoch 62/100\n",
            "5/5 [==============================] - 0s 2ms/step - loss: 0.5864 - accuracy: 0.9000\n",
            "Epoch 63/100\n",
            "5/5 [==============================] - 0s 2ms/step - loss: 0.5850 - accuracy: 0.9000\n",
            "Epoch 64/100\n",
            "5/5 [==============================] - 0s 3ms/step - loss: 0.5802 - accuracy: 0.9067\n",
            "Epoch 65/100\n",
            "5/5 [==============================] - 0s 2ms/step - loss: 0.5772 - accuracy: 0.9000\n",
            "Epoch 66/100\n",
            "5/5 [==============================] - 0s 2ms/step - loss: 0.5753 - accuracy: 0.9000\n",
            "Epoch 67/100\n",
            "5/5 [==============================] - 0s 4ms/step - loss: 0.5717 - accuracy: 0.8933\n",
            "Epoch 68/100\n",
            "5/5 [==============================] - 0s 3ms/step - loss: 0.5694 - accuracy: 0.9000\n",
            "Epoch 69/100\n",
            "5/5 [==============================] - 0s 2ms/step - loss: 0.5660 - accuracy: 0.8867\n",
            "Epoch 70/100\n",
            "5/5 [==============================] - 0s 3ms/step - loss: 0.5632 - accuracy: 0.9000\n",
            "Epoch 71/100\n",
            "5/5 [==============================] - 0s 2ms/step - loss: 0.5617 - accuracy: 0.9000\n",
            "Epoch 72/100\n",
            "5/5 [==============================] - 0s 3ms/step - loss: 0.5576 - accuracy: 0.9000\n",
            "Epoch 73/100\n",
            "5/5 [==============================] - 0s 2ms/step - loss: 0.5559 - accuracy: 0.9133\n",
            "Epoch 74/100\n",
            "5/5 [==============================] - 0s 2ms/step - loss: 0.5532 - accuracy: 0.9133\n",
            "Epoch 75/100\n",
            "5/5 [==============================] - 0s 3ms/step - loss: 0.5502 - accuracy: 0.8933\n",
            "Epoch 76/100\n",
            "5/5 [==============================] - 0s 2ms/step - loss: 0.5489 - accuracy: 0.9067\n",
            "Epoch 77/100\n",
            "5/5 [==============================] - 0s 2ms/step - loss: 0.5450 - accuracy: 0.9000\n",
            "Epoch 78/100\n",
            "5/5 [==============================] - 0s 3ms/step - loss: 0.5422 - accuracy: 0.9067\n",
            "Epoch 79/100\n",
            "5/5 [==============================] - 0s 2ms/step - loss: 0.5402 - accuracy: 0.9067\n",
            "Epoch 80/100\n",
            "5/5 [==============================] - 0s 2ms/step - loss: 0.5376 - accuracy: 0.9133\n",
            "Epoch 81/100\n",
            "5/5 [==============================] - 0s 2ms/step - loss: 0.5356 - accuracy: 0.9067\n",
            "Epoch 82/100\n",
            "5/5 [==============================] - 0s 3ms/step - loss: 0.5324 - accuracy: 0.9000\n",
            "Epoch 83/100\n",
            "5/5 [==============================] - 0s 2ms/step - loss: 0.5298 - accuracy: 0.9200\n",
            "Epoch 84/100\n",
            "5/5 [==============================] - 0s 2ms/step - loss: 0.5282 - accuracy: 0.9133\n",
            "Epoch 85/100\n",
            "5/5 [==============================] - 0s 3ms/step - loss: 0.5259 - accuracy: 0.9133\n",
            "Epoch 86/100\n",
            "5/5 [==============================] - 0s 2ms/step - loss: 0.5241 - accuracy: 0.9067\n",
            "Epoch 87/100\n",
            "5/5 [==============================] - 0s 4ms/step - loss: 0.5219 - accuracy: 0.9067\n",
            "Epoch 88/100\n",
            "5/5 [==============================] - 0s 2ms/step - loss: 0.5203 - accuracy: 0.9133\n",
            "Epoch 89/100\n",
            "5/5 [==============================] - 0s 2ms/step - loss: 0.5168 - accuracy: 0.9133\n",
            "Epoch 90/100\n",
            "5/5 [==============================] - 0s 2ms/step - loss: 0.5157 - accuracy: 0.9067\n",
            "Epoch 91/100\n",
            "5/5 [==============================] - 0s 2ms/step - loss: 0.5127 - accuracy: 0.9067\n",
            "Epoch 92/100\n",
            "5/5 [==============================] - 0s 2ms/step - loss: 0.5110 - accuracy: 0.9200\n",
            "Epoch 93/100\n",
            "5/5 [==============================] - 0s 2ms/step - loss: 0.5088 - accuracy: 0.9067\n",
            "Epoch 94/100\n",
            "5/5 [==============================] - 0s 3ms/step - loss: 0.5072 - accuracy: 0.9200\n",
            "Epoch 95/100\n",
            "5/5 [==============================] - 0s 3ms/step - loss: 0.5052 - accuracy: 0.9067\n",
            "Epoch 96/100\n",
            "5/5 [==============================] - 0s 2ms/step - loss: 0.5026 - accuracy: 0.9133\n",
            "Epoch 97/100\n",
            "5/5 [==============================] - 0s 2ms/step - loss: 0.5009 - accuracy: 0.9133\n",
            "Epoch 98/100\n",
            "5/5 [==============================] - 0s 2ms/step - loss: 0.4981 - accuracy: 0.9067\n",
            "Epoch 99/100\n",
            "5/5 [==============================] - 0s 3ms/step - loss: 0.4973 - accuracy: 0.9067\n",
            "Epoch 100/100\n",
            "5/5 [==============================] - 0s 3ms/step - loss: 0.4949 - accuracy: 0.9067\n"
          ]
        },
        {
          "output_type": "execute_result",
          "data": {
            "text/plain": [
              "<keras.callbacks.History at 0x7f9de9996e50>"
            ]
          },
          "metadata": {},
          "execution_count": 10
        }
      ]
    },
    {
      "cell_type": "code",
      "metadata": {
        "colab": {
          "base_uri": "https://localhost:8080/"
        },
        "id": "j5LGBGiMqpcP",
        "outputId": "06eb0cfb-b5ed-4a69-9609-cadd8837e6f2"
      },
      "source": [
        "# 4. 모델을 이용합니다.\n",
        "model.predict(독립[0:5])"
      ],
      "execution_count": null,
      "outputs": [
        {
          "output_type": "execute_result",
          "data": {
            "text/plain": [
              "array([[0.7997761 , 0.18524338, 0.01498049],\n",
              "       [0.7531171 , 0.21932381, 0.02755913],\n",
              "       [0.78091097, 0.19781849, 0.02127052],\n",
              "       [0.7319827 , 0.23949361, 0.02852373],\n",
              "       [0.8038186 , 0.182499  , 0.0136824 ]], dtype=float32)"
            ]
          },
          "metadata": {},
          "execution_count": 11
        }
      ]
    },
    {
      "cell_type": "code",
      "metadata": {
        "colab": {
          "base_uri": "https://localhost:8080/",
          "height": 206
        },
        "id": "Polo1uZ1sOqn",
        "outputId": "5f917dc9-02b4-4d03-defb-2d53e297b7d8"
      },
      "source": [
        "종속[0:5]"
      ],
      "execution_count": null,
      "outputs": [
        {
          "output_type": "execute_result",
          "data": {
            "text/html": [
              "<div>\n",
              "<style scoped>\n",
              "    .dataframe tbody tr th:only-of-type {\n",
              "        vertical-align: middle;\n",
              "    }\n",
              "\n",
              "    .dataframe tbody tr th {\n",
              "        vertical-align: top;\n",
              "    }\n",
              "\n",
              "    .dataframe thead th {\n",
              "        text-align: right;\n",
              "    }\n",
              "</style>\n",
              "<table border=\"1\" class=\"dataframe\">\n",
              "  <thead>\n",
              "    <tr style=\"text-align: right;\">\n",
              "      <th></th>\n",
              "      <th>품종_setosa</th>\n",
              "      <th>품종_versicolor</th>\n",
              "      <th>품종_virginica</th>\n",
              "    </tr>\n",
              "  </thead>\n",
              "  <tbody>\n",
              "    <tr>\n",
              "      <th>0</th>\n",
              "      <td>1</td>\n",
              "      <td>0</td>\n",
              "      <td>0</td>\n",
              "    </tr>\n",
              "    <tr>\n",
              "      <th>1</th>\n",
              "      <td>1</td>\n",
              "      <td>0</td>\n",
              "      <td>0</td>\n",
              "    </tr>\n",
              "    <tr>\n",
              "      <th>2</th>\n",
              "      <td>1</td>\n",
              "      <td>0</td>\n",
              "      <td>0</td>\n",
              "    </tr>\n",
              "    <tr>\n",
              "      <th>3</th>\n",
              "      <td>1</td>\n",
              "      <td>0</td>\n",
              "      <td>0</td>\n",
              "    </tr>\n",
              "    <tr>\n",
              "      <th>4</th>\n",
              "      <td>1</td>\n",
              "      <td>0</td>\n",
              "      <td>0</td>\n",
              "    </tr>\n",
              "  </tbody>\n",
              "</table>\n",
              "</div>"
            ],
            "text/plain": [
              "   품종_setosa  품종_versicolor  품종_virginica\n",
              "0          1              0             0\n",
              "1          1              0             0\n",
              "2          1              0             0\n",
              "3          1              0             0\n",
              "4          1              0             0"
            ]
          },
          "metadata": {},
          "execution_count": 12
        }
      ]
    },
    {
      "cell_type": "code",
      "metadata": {
        "colab": {
          "base_uri": "https://localhost:8080/"
        },
        "id": "SaxWUuAWw96v",
        "outputId": "f678d985-7326-44c4-f2b9-79e852de333e"
      },
      "source": [
        "# 모델의 수식 확인\n",
        "model.get_weights()"
      ],
      "execution_count": null,
      "outputs": [
        {
          "output_type": "execute_result",
          "data": {
            "text/plain": [
              "[array([[ 0.59942126,  0.4149137 ,  0.32614446],\n",
              "        [ 0.85071236,  0.46653464, -0.3793696 ],\n",
              "        [-1.2277318 , -0.23267022, -0.18882033],\n",
              "        [-0.47002214, -0.7143605 ,  0.81006074]], dtype=float32),\n",
              " array([ 0.22240624, -0.2988633 ,  0.23332931], dtype=float32)]"
            ]
          },
          "metadata": {},
          "execution_count": 13
        }
      ]
    }
  ]
}